{
 "cells": [
  {
   "cell_type": "markdown",
   "metadata": {
    "collapsed": true,
    "deletable": true,
    "editable": true
   },
   "source": [
    "# Image Classification\n",
    "In this project, you'll classify images from the [CIFAR-10 dataset](https://www.cs.toronto.edu/~kriz/cifar.html).  The dataset consists of airplanes, dogs, cats, and other objects. You'll preprocess the images, then train a convolutional neural network on all the samples. The images need to be normalized and the labels need to be one-hot encoded.  You'll get to apply what you learned and build a convolutional, max pooling, dropout, and fully connected layers.  At the end, you'll get to see your neural network's predictions on the sample images.\n",
    "## Get the Data\n",
    "Run the following cell to download the [CIFAR-10 dataset for python](https://www.cs.toronto.edu/~kriz/cifar-10-python.tar.gz)."
   ]
  },
  {
   "cell_type": "code",
   "execution_count": 1,
   "metadata": {
    "collapsed": false,
    "deletable": true,
    "editable": true
   },
   "outputs": [
    {
     "name": "stderr",
     "output_type": "stream",
     "text": [
      "CIFAR-10 Dataset: 171MB [00:33, 5.10MB/s]                              \n"
     ]
    },
    {
     "name": "stdout",
     "output_type": "stream",
     "text": [
      "All files found!\n"
     ]
    }
   ],
   "source": [
    "\"\"\"\n",
    "DON'T MODIFY ANYTHING IN THIS CELL THAT IS BELOW THIS LINE\n",
    "\"\"\"\n",
    "from urllib.request import urlretrieve\n",
    "from os.path import isfile, isdir\n",
    "from tqdm import tqdm\n",
    "import problem_unittests as tests\n",
    "import tarfile\n",
    "\n",
    "cifar10_dataset_folder_path = 'cifar-10-batches-py'\n",
    "\n",
    "class DLProgress(tqdm):\n",
    "    last_block = 0\n",
    "\n",
    "    def hook(self, block_num=1, block_size=1, total_size=None):\n",
    "        self.total = total_size\n",
    "        self.update((block_num - self.last_block) * block_size)\n",
    "        self.last_block = block_num\n",
    "\n",
    "if not isfile('cifar-10-python.tar.gz'):\n",
    "    with DLProgress(unit='B', unit_scale=True, miniters=1, desc='CIFAR-10 Dataset') as pbar:\n",
    "        urlretrieve(\n",
    "            'https://www.cs.toronto.edu/~kriz/cifar-10-python.tar.gz',\n",
    "            'cifar-10-python.tar.gz',\n",
    "            pbar.hook)\n",
    "\n",
    "if not isdir(cifar10_dataset_folder_path):\n",
    "    with tarfile.open('cifar-10-python.tar.gz') as tar:\n",
    "        tar.extractall()\n",
    "        tar.close()\n",
    "\n",
    "\n",
    "tests.test_folder_path(cifar10_dataset_folder_path)"
   ]
  },
  {
   "cell_type": "markdown",
   "metadata": {
    "deletable": true,
    "editable": true
   },
   "source": [
    "## Explore the Data\n",
    "The dataset is broken into batches to prevent your machine from running out of memory.  The CIFAR-10 dataset consists of 5 batches, named `data_batch_1`, `data_batch_2`, etc.. Each batch contains the labels and images that are one of the following:\n",
    "* airplane\n",
    "* automobile\n",
    "* bird\n",
    "* cat\n",
    "* deer\n",
    "* dog\n",
    "* frog\n",
    "* horse\n",
    "* ship\n",
    "* truck\n",
    "\n",
    "Understanding a dataset is part of making predictions on the data.  Play around with the code cell below by changing the `batch_id` and `sample_id`. The `batch_id` is the id for a batch (1-5). The `sample_id` is the id for a image and label pair in the batch.\n",
    "\n",
    "Ask yourself \"What are all possible labels?\", \"What is the range of values for the image data?\", \"Are the labels in order or random?\".  Answers to questions like these will help you preprocess the data and end up with better predictions."
   ]
  },
  {
   "cell_type": "code",
   "execution_count": 2,
   "metadata": {
    "collapsed": false,
    "deletable": true,
    "editable": true
   },
   "outputs": [
    {
     "name": "stdout",
     "output_type": "stream",
     "text": [
      "\n",
      "Stats of batch 1:\n",
      "Samples: 10000\n",
      "Label Counts: {0: 1005, 1: 974, 2: 1032, 3: 1016, 4: 999, 5: 937, 6: 1030, 7: 1001, 8: 1025, 9: 981}\n",
      "First 20 Labels: [6, 9, 9, 4, 1, 1, 2, 7, 8, 3, 4, 7, 7, 2, 9, 9, 9, 3, 2, 6]\n",
      "\n",
      "Example of Image 5:\n",
      "Image - Min Value: 0 Max Value: 252\n",
      "Image - Shape: (32, 32, 3)\n",
      "Label - Label Id: 1 Name: automobile\n"
     ]
    },
    {
     "data": {
      "image/png": "[encoded data removed]",
      "text/plain": [
       "<matplotlib.figure.Figure at 0x7fcd799c9a20>"
      ]
     },
     "metadata": {
      "image/png": {
       "height": 250,
       "width": 253
      }
     },
     "output_type": "display_data"
    }
   ],
   "source": [
    "%matplotlib inline\n",
    "%config InlineBackend.figure_format = 'retina'\n",
    "\n",
    "import helper\n",
    "import numpy as np\n",
    "\n",
    "# Explore the dataset\n",
    "batch_id = 1\n",
    "sample_id = 5\n",
    "helper.display_stats(cifar10_dataset_folder_path, batch_id, sample_id)"
   ]
  },
  {
   "cell_type": "markdown",
   "metadata": {
    "deletable": true,
    "editable": true
   },
   "source": [
    "## Implement Preprocess Functions\n",
    "### Normalize\n",
    "In the cell below, implement the `normalize` function to take in image data, `x`, and return it as a normalized Numpy array. The values should be in the range of 0 to 1, inclusive.  The return object should be the same shape as `x`."
   ]
  },
  {
   "cell_type": "code",
   "execution_count": 3,
   "metadata": {
    "collapsed": false,
    "deletable": true,
    "editable": true
   },
   "outputs": [
    {
     "name": "stdout",
     "output_type": "stream",
     "text": [
      "Tests Passed\n"
     ]
    }
   ],
   "source": [
    "def normalize(x):\n",
    "    \"\"\"\n",
    "    Normalize a list of sample image data in the range of 0 to 1\n",
    "    : x: List of image data.  The image shape is (32, 32, 3)\n",
    "    : return: Numpy array of normalize data\n",
    "    \"\"\"\n",
    "    # TODO: Implement Function\n",
    "    return np.array(x/255)\n",
    "\n",
    "\n",
    "\"\"\"\n",
    "DON'T MODIFY ANYTHING IN THIS CELL THAT IS BELOW THIS LINE\n",
    "\"\"\"\n",
    "tests.test_normalize(normalize)"
   ]
  },
  {
   "cell_type": "markdown",
   "metadata": {
    "deletable": true,
    "editable": true
   },
   "source": [
    "### One-hot encode\n",
    "Just like the previous code cell, you'll be implementing a function for preprocessing.  This time, you'll implement the `one_hot_encode` function. The input, `x`, are a list of labels.  Implement the function to return the list of labels as One-Hot encoded Numpy array.  The possible values for labels are 0 to 9. The one-hot encoding function should return the same encoding for each value between each call to `one_hot_encode`.  Make sure to save the map of encodings outside the function.\n",
    "\n",
    "Hint: Don't reinvent the wheel."
   ]
  },
  {
   "cell_type": "code",
   "execution_count": 7,
   "metadata": {
    "collapsed": false,
    "deletable": true,
    "editable": true
   },
   "outputs": [
    {
     "name": "stdout",
     "output_type": "stream",
     "text": [
      "Tests Passed\n"
     ]
    }
   ],
   "source": [
    "import sklearn.preprocessing\n",
    "\n",
    "def one_hot_encode(x):\n",
    "    \"\"\"\n",
    "    One hot encode a list of sample labels. Return a one-hot encoded vector for each label.\n",
    "    : x: List of sample Labels\n",
    "    : return: Numpy array of one-hot encoded labels\n",
    "    \"\"\"\n",
    "    label_binarizer = sklearn.preprocessing.LabelBinarizer()\n",
    "    label_binarizer.fit(range(10))\n",
    "    res = label_binarizer.transform(x)\n",
    "    return res\n",
    "\n",
    "\n",
    "\"\"\"\n",
    "DON'T MODIFY ANYTHING IN THIS CELL THAT IS BELOW THIS LINE\n",
    "\"\"\"\n",
    "tests.test_one_hot_encode(one_hot_encode)"
   ]
  },
  {
   "cell_type": "markdown",
   "metadata": {
    "deletable": true,
    "editable": true
   },
   "source": [
    "### Randomize Data\n",
    "As you saw from exploring the data above, the order of the samples are randomized.  It doesn't hurt to randomize it again, but you don't need to for this dataset."
   ]
  },
  {
   "cell_type": "markdown",
   "metadata": {
    "deletable": true,
    "editable": true
   },
   "source": [
    "## Preprocess all the data and save it\n",
    "Running the code cell below will preprocess all the CIFAR-10 data and save it to file. The code below also uses 10% of the training data for validation."
   ]
  },
  {
   "cell_type": "code",
   "execution_count": 8,
   "metadata": {
    "collapsed": false,
    "deletable": true,
    "editable": true
   },
   "outputs": [],
   "source": [
    "\"\"\"\n",
    "DON'T MODIFY ANYTHING IN THIS CELL\n",
    "\"\"\"\n",
    "# Preprocess Training, Validation, and Testing Data\n",
    "helper.preprocess_and_save_data(cifar10_dataset_folder_path, normalize, one_hot_encode)"
   ]
  },
  {
   "cell_type": "markdown",
   "metadata": {
    "deletable": true,
    "editable": true
   },
   "source": [
    "# Check Point\n",
    "This is your first checkpoint.  If you ever decide to come back to this notebook or have to restart the notebook, you can start from here.  The preprocessed data has been saved to disk."
   ]
  },
  {
   "cell_type": "code",
   "execution_count": 9,
   "metadata": {
    "collapsed": true,
    "deletable": true,
    "editable": true
   },
   "outputs": [],
   "source": [
    "\"\"\"\n",
    "DON'T MODIFY ANYTHING IN THIS CELL\n",
    "\"\"\"\n",
    "import pickle\n",
    "import problem_unittests as tests\n",
    "import helper\n",
    "\n",
    "# Load the Preprocessed Validation data\n",
    "valid_features, valid_labels = pickle.load(open('preprocess_validation.p', mode='rb'))"
   ]
  },
  {
   "cell_type": "markdown",
   "metadata": {
    "deletable": true,
    "editable": true
   },
   "source": [
    "## Build the network\n",
    "For the neural network, you'll build each layer into a function.  Most of the code you've seen has been outside of functions. To test your code more thoroughly, we require that you put each layer in a function.  This allows us to give you better feedback and test for simple mistakes using our unittests before you submit your project.\n",
    "\n",
    ">**Note:** If you're finding it hard to dedicate enough time for this course each week, we've provided a small shortcut to this part of the project. In the next couple of problems, you'll have the option to use classes from the [TensorFlow Layers](https://www.tensorflow.org/api_docs/python/tf/layers) or [TensorFlow Layers (contrib)](https://www.tensorflow.org/api_guides/python/contrib.layers) packages to build each layer, except the layers you build in the \"Convolutional and Max Pooling Layer\" section.  TF Layers is similar to Keras's and TFLearn's abstraction to layers, so it's easy to pickup.\n",
    "\n",
    ">However, if you would like to get the most out of this course, try to solve all the problems _without_ using anything from the TF Layers packages. You **can** still use classes from other packages that happen to have the same name as ones you find in TF Layers! For example, instead of using the TF Layers version of the `conv2d` class, [tf.layers.conv2d](https://www.tensorflow.org/api_docs/python/tf/layers/conv2d), you would want to use the TF Neural Network version of `conv2d`, [tf.nn.conv2d](https://www.tensorflow.org/api_docs/python/tf/nn/conv2d). \n",
    "\n",
    "Let's begin!\n",
    "\n",
    "### Input\n",
    "The neural network needs to read the image data, one-hot encoded labels, and dropout keep probability. Implement the following functions\n",
    "* Implement `neural_net_image_input`\n",
    " * Return a [TF Placeholder](https://www.tensorflow.org/api_docs/python/tf/placeholder)\n",
    " * Set the shape using `image_shape` with batch size set to `None`.\n",
    " * Name the TensorFlow placeholder \"x\" using the TensorFlow `name` parameter in the [TF Placeholder](https://www.tensorflow.org/api_docs/python/tf/placeholder).\n",
    "* Implement `neural_net_label_input`\n",
    " * Return a [TF Placeholder](https://www.tensorflow.org/api_docs/python/tf/placeholder)\n",
    " * Set the shape using `n_classes` with batch size set to `None`.\n",
    " * Name the TensorFlow placeholder \"y\" using the TensorFlow `name` parameter in the [TF Placeholder](https://www.tensorflow.org/api_docs/python/tf/placeholder).\n",
    "* Implement `neural_net_keep_prob_input`\n",
    " * Return a [TF Placeholder](https://www.tensorflow.org/api_docs/python/tf/placeholder) for dropout keep probability.\n",
    " * Name the TensorFlow placeholder \"keep_prob\" using the TensorFlow `name` parameter in the [TF Placeholder](https://www.tensorflow.org/api_docs/python/tf/placeholder).\n",
    "\n",
    "These names will be used at the end of the project to load your saved model.\n",
    "\n",
    "Note: `None` for shapes in TensorFlow allow for a dynamic size."
   ]
  },
  {
   "cell_type": "code",
   "execution_count": 20,
   "metadata": {
    "collapsed": false,
    "deletable": true,
    "editable": true
   },
   "outputs": [
    {
     "name": "stdout",
     "output_type": "stream",
     "text": [
      "Image Input Tests Passed.\n",
      "Label Input Tests Passed.\n",
      "Keep Prob Tests Passed.\n"
     ]
    }
   ],
   "source": [
    "import tensorflow as tf\n",
    "\n",
    "def neural_net_image_input(image_shape):\n",
    "    \"\"\"\n",
    "    Return a Tensor for a bach of image input\n",
    "    : image_shape: Shape of the images\n",
    "    : return: Tensor for image input.\n",
    "    \"\"\"\n",
    "    # TODO: Implement Function\n",
    "    return tf.placeholder(tf.float32, [None, image_shape[0], image_shape[1], image_shape[2]], name='x')\n",
    "\n",
    "\n",
    "def neural_net_label_input(n_classes):\n",
    "    \"\"\"\n",
    "    Return a Tensor for a batch of label input\n",
    "    : n_classes: Number of classes\n",
    "    : return: Tensor for label input.\n",
    "    \"\"\"\n",
    "    # TODO: Implement Function\n",
    "    return tf.placeholder(tf.float32, [None, n_classes], name='y')\n",
    "\n",
    "\n",
    "def neural_net_keep_prob_input():\n",
    "    \"\"\"\n",
    "    Return a Tensor for keep probability\n",
    "    : return: Tensor for keep probability.\n",
    "    \"\"\"\n",
    "    # TODO: Implement Function\n",
    "    return tf.placeholder(tf.float32, name='keep_prob')\n",
    "\n",
    "\n",
    "\"\"\"\n",
    "DON'T MODIFY ANYTHING IN THIS CELL THAT IS BELOW THIS LINE\n",
    "\"\"\"\n",
    "tf.reset_default_graph()\n",
    "tests.test_nn_image_inputs(neural_net_image_input)\n",
    "tests.test_nn_label_inputs(neural_net_label_input)\n",
    "tests.test_nn_keep_prob_inputs(neural_net_keep_prob_input)"
   ]
  },
  {
   "cell_type": "markdown",
   "metadata": {
    "deletable": true,
    "editable": true
   },
   "source": [
    "### Convolution and Max Pooling Layer\n",
    "Convolution layers have a lot of success with images. For this code cell, you should implement the function `conv2d_maxpool` to apply convolution then max pooling:\n",
    "* Create the weight and bias using `conv_ksize`, `conv_num_outputs` and the shape of `x_tensor`.\n",
    "* Apply a convolution to `x_tensor` using weight and `conv_strides`.\n",
    " * We recommend you use same padding, but you're welcome to use any padding.\n",
    "* Add bias\n",
    "* Add a nonlinear activation to the convolution.\n",
    "* Apply Max Pooling using `pool_ksize` and `pool_strides`.\n",
    " * We recommend you use same padding, but you're welcome to use any padding.\n",
    "\n",
    "**Note:** You **can't** use [TensorFlow Layers](https://www.tensorflow.org/api_docs/python/tf/layers) or [TensorFlow Layers (contrib)](https://www.tensorflow.org/api_guides/python/contrib.layers) for **this** layer, but you can still use TensorFlow's [Neural Network](https://www.tensorflow.org/api_docs/python/tf/nn) package. You may still use the shortcut option for all the **other** layers."
   ]
  },
  {
   "cell_type": "code",
   "execution_count": 32,
   "metadata": {
    "collapsed": false,
    "deletable": true,
    "editable": true
   },
   "outputs": [
    {
     "name": "stdout",
     "output_type": "stream",
     "text": [
      "Tests Passed\n"
     ]
    }
   ],
   "source": [
    "def conv2d_maxpool(x_tensor, conv_num_outputs, conv_ksize, conv_strides, pool_ksize, pool_strides):\n",
    "    \"\"\"\n",
    "    Apply convolution then max pooling to x_tensor\n",
    "    :param x_tensor: TensorFlow Tensor\n",
    "    :param conv_num_outputs: Number of outputs for the convolutional layer\n",
    "    :param conv_ksize: kernal size 2-D Tuple for the convolutional layer\n",
    "    :param conv_strides: Stride 2-D Tuple for convolution\n",
    "    :param pool_ksize: kernal size 2-D Tuple for pool\n",
    "    :param pool_strides: Stride 2-D Tuple for pool\n",
    "    : return: A tensor that represents convolution and max pooling of x_tensor\n",
    "    \"\"\"\n",
    "    weights = tf.Variable(tf.truncated_normal([conv_ksize[0], conv_ksize[1], x_tensor.get_shape().as_list()[3], conv_num_outputs]))\n",
    "    bias = tf.Variable(tf.truncated_normal([conv_num_outputs]))\n",
    "    \n",
    "    x = tf.nn.conv2d(x_tensor, weights,  strides=[1, conv_strides[0], conv_strides[1], 1], padding='SAME')\n",
    "    x = tf.nn.bias_add(x, bias)\n",
    "    x = tf.nn.relu(x)\n",
    "    x = tf.nn.max_pool(x, ksize= [1, pool_ksize[0], pool_ksize[1],1], strides=[1, pool_strides[0], pool_strides[1], 1], padding='SAME')\n",
    "    return x\n",
    "\n",
    "\n",
    "\"\"\"\n",
    "DON'T MODIFY ANYTHING IN THIS CELL THAT IS BELOW THIS LINE\n",
    "\"\"\"\n",
    "tests.test_con_pool(conv2d_maxpool)"
   ]
  },
  {
   "cell_type": "markdown",
   "metadata": {
    "deletable": true,
    "editable": true
   },
   "source": [
    "### Flatten Layer\n",
    "Implement the `flatten` function to change the dimension of `x_tensor` from a 4-D tensor to a 2-D tensor.  The output should be the shape (*Batch Size*, *Flattened Image Size*). Shortcut option: you can use classes from the [TensorFlow Layers](https://www.tensorflow.org/api_docs/python/tf/layers) or [TensorFlow Layers (contrib)](https://www.tensorflow.org/api_guides/python/contrib.layers) packages for this layer. For more of a challenge, only use other TensorFlow packages."
   ]
  },
  {
   "cell_type": "code",
   "execution_count": 35,
   "metadata": {
    "collapsed": false,
    "deletable": true,
    "editable": true
   },
   "outputs": [
    {
     "name": "stdout",
     "output_type": "stream",
     "text": [
      "Tests Passed\n"
     ]
    }
   ],
   "source": [
    "def flatten(x_tensor):\n",
    "    \"\"\"\n",
    "    Flatten x_tensor to (Batch Size, Flattened Image Size)\n",
    "    : x_tensor: A tensor of size (Batch Size, ...), where ... are the image dimensions.\n",
    "    : return: A tensor of size (Batch Size, Flattened Image Size).\n",
    "    \"\"\"\n",
    "    # TODO: Implement Function\n",
    "    num_features = x_tensor.get_shape()[1:].num_elements()\n",
    "    x_tensor_flat = tf.reshape(x_tensor, [-1, num_features])\n",
    "    return x_tensor_flat\n",
    "\n",
    "\n",
    "\"\"\"\n",
    "DON'T MODIFY ANYTHING IN THIS CELL THAT IS BELOW THIS LINE\n",
    "\"\"\"\n",
    "tests.test_flatten(flatten)"
   ]
  },
  {
   "cell_type": "markdown",
   "metadata": {
    "deletable": true,
    "editable": true
   },
   "source": [
    "### Fully-Connected Layer\n",
    "Implement the `fully_conn` function to apply a fully connected layer to `x_tensor` with the shape (*Batch Size*, *num_outputs*). Shortcut option: you can use classes from the [TensorFlow Layers](https://www.tensorflow.org/api_docs/python/tf/layers) or [TensorFlow Layers (contrib)](https://www.tensorflow.org/api_guides/python/contrib.layers) packages for this layer. For more of a challenge, only use other TensorFlow packages."
   ]
  },
  {
   "cell_type": "code",
   "execution_count": 54,
   "metadata": {
    "collapsed": false,
    "deletable": true,
    "editable": true
   },
   "outputs": [
    {
     "name": "stdout",
     "output_type": "stream",
     "text": [
      "Tests Passed\n"
     ]
    }
   ],
   "source": [
    "def fully_conn(x_tensor, num_outputs):\n",
    "    \"\"\"\n",
    "    Apply a fully connected layer to x_tensor using weight and bias\n",
    "    : x_tensor: A 2-D tensor where the first dimension is batch size.\n",
    "    : num_outputs: The number of output that the new tensor should be.\n",
    "    : return: A 2-D tensor where the second dimension is num_outputs.\n",
    "    \"\"\"\n",
    "    # TODO: Implement Function\n",
    "    weights = tf.Variable(tf.truncated_normal([ x_tensor.get_shape().as_list()[1], num_outputs], stddev=0.1))\n",
    "    bias = tf.Variable(tf.constant(0.05, shape=[num_outputs]))\n",
    "    \n",
    "    return tf.add(tf.matmul(x_tensor, weights), bias)\n",
    "\n",
    "\n",
    "\"\"\"\n",
    "DON'T MODIFY ANYTHING IN THIS CELL THAT IS BELOW THIS LINE\n",
    "\"\"\"\n",
    "tests.test_fully_conn(fully_conn)"
   ]
  },
  {
   "cell_type": "markdown",
   "metadata": {
    "deletable": true,
    "editable": true
   },
   "source": [
    "### Output Layer\n",
    "Implement the `output` function to apply a fully connected layer to `x_tensor` with the shape (*Batch Size*, *num_outputs*). Shortcut option: you can use classes from the [TensorFlow Layers](https://www.tensorflow.org/api_docs/python/tf/layers) or [TensorFlow Layers (contrib)](https://www.tensorflow.org/api_guides/python/contrib.layers) packages for this layer. For more of a challenge, only use other TensorFlow packages.\n",
    "\n",
    "**Note:** Activation, softmax, or cross entropy should **not** be applied to this."
   ]
  },
  {
   "cell_type": "code",
   "execution_count": 53,
   "metadata": {
    "collapsed": false,
    "deletable": true,
    "editable": true
   },
   "outputs": [
    {
     "name": "stdout",
     "output_type": "stream",
     "text": [
      "Tests Passed\n"
     ]
    }
   ],
   "source": [
    "def output(x_tensor, num_outputs):\n",
    "    \"\"\"\n",
    "    Apply a output layer to x_tensor using weight and bias\n",
    "    : x_tensor: A 2-D tensor where the first dimension is batch size.\n",
    "    : num_outputs: The number of output that the new tensor should be.\n",
    "    : return: A 2-D tensor where the second dimension is num_outputs.\n",
    "    \"\"\"\n",
    "    # TODO: Implement Function\n",
    "    weights = tf.Variable(tf.truncated_normal([ x_tensor.get_shape().as_list()[1], num_outputs], stddev=0.1))\n",
    "    bias = tf.Variable(tf.constant(0.05, shape=[num_outputs]))\n",
    "    \n",
    "    return tf.add(tf.matmul(x_tensor, weights), bias)\n",
    "\n",
    "\n",
    "\"\"\"\n",
    "DON'T MODIFY ANYTHING IN THIS CELL THAT IS BELOW THIS LINE\n",
    "\"\"\"\n",
    "tests.test_output(output)"
   ]
  },
  {
   "cell_type": "markdown",
   "metadata": {
    "deletable": true,
    "editable": true
   },
   "source": [
    "### Create Convolutional Model\n",
    "Implement the function `conv_net` to create a convolutional neural network model. The function takes in a batch of images, `x`, and outputs logits.  Use the layers you created above to create this model:\n",
    "\n",
    "* Apply 1, 2, or 3 Convolution and Max Pool layers\n",
    "* Apply a Flatten Layer\n",
    "* Apply 1, 2, or 3 Fully Connected Layers\n",
    "* Apply an Output Layer\n",
    "* Return the output\n",
    "* Apply [TensorFlow's Dropout](https://www.tensorflow.org/api_docs/python/tf/nn/dropout) to one or more layers in the model using `keep_prob`. "
   ]
  },
  {
   "cell_type": "code",
   "execution_count": 55,
   "metadata": {
    "collapsed": false,
    "deletable": true,
    "editable": true
   },
   "outputs": [
    {
     "name": "stdout",
     "output_type": "stream",
     "text": [
      "Neural Network Built!\n"
     ]
    }
   ],
   "source": [
    "def conv_net(x, keep_prob):\n",
    "    \"\"\"\n",
    "    Create a convolutional neural network model\n",
    "    : x: Placeholder tensor that holds image data.\n",
    "    : keep_prob: Placeholder tensor that hold dropout keep probability.\n",
    "    : return: Tensor that represents logits\n",
    "    \"\"\"\n",
    "    # TODO: Apply 1, 2, or 3 Convolution and Max Pool layers\n",
    "    #    Play around with different number of outputs, kernel size and stride\n",
    "    # Function Definition from Above:\n",
    "    #    conv2d_maxpool(x_tensor, conv_num_outputs, conv_ksize, conv_strides, pool_ksize, pool_strides)\n",
    "    conv1 = conv2d_maxpool(x, 16, [3, 3], [1, 1], [2, 2], [2, 2])\n",
    "    conv2 = conv2d_maxpool(conv1, 32, [3, 3], [1, 1], [2, 2], [2, 2])\n",
    "\n",
    "    # TODO: Apply a Flatten Layer\n",
    "    # Function Definition from Above:\n",
    "    #   flatten(x_tensor)\n",
    "    ix = flatten(conv2)\n",
    "    \n",
    "\n",
    "    # TODO: Apply 1, 2, or 3 Fully Connected Layers\n",
    "    #    Play around with different number of outputs\n",
    "    # Function Definition from Above:\n",
    "    #   fully_conn(x_tensor, num_outputs)\n",
    "    hx1 = fully_conn(ix, 512)\n",
    "    hx1 = tf.nn.relu(hx1)\n",
    "    hx1 = tf.nn.dropout(hx1, keep_prob)\n",
    "        \n",
    "    # TODO: Apply an Output Layer\n",
    "    #    Set this to the number of classes\n",
    "    # Function Definition from Above:\n",
    "    #   output(x_tensor, num_outputs)\n",
    "    out = output(hx1, 10)\n",
    "    \n",
    "    # TODO: return output\n",
    "    return out\n",
    "\n",
    "\n",
    "\"\"\"\n",
    "DON'T MODIFY ANYTHING IN THIS CELL THAT IS BELOW THIS LINE\n",
    "\"\"\"\n",
    "\n",
    "##############################\n",
    "## Build the Neural Network ##\n",
    "##############################\n",
    "\n",
    "# Remove previous weights, bias, inputs, etc..\n",
    "tf.reset_default_graph()\n",
    "\n",
    "# Inputs\n",
    "x = neural_net_image_input((32, 32, 3))\n",
    "y = neural_net_label_input(10)\n",
    "keep_prob = neural_net_keep_prob_input()\n",
    "\n",
    "# Model\n",
    "logits = conv_net(x, keep_prob)\n",
    "\n",
    "# Name logits Tensor, so that is can be loaded from disk after training\n",
    "logits = tf.identity(logits, name='logits')\n",
    "\n",
    "# Loss and Optimizer\n",
    "cost = tf.reduce_mean(tf.nn.softmax_cross_entropy_with_logits(logits=logits, labels=y))\n",
    "optimizer = tf.train.AdamOptimizer().minimize(cost)\n",
    "\n",
    "# Accuracy\n",
    "correct_pred = tf.equal(tf.argmax(logits, 1), tf.argmax(y, 1))\n",
    "accuracy = tf.reduce_mean(tf.cast(correct_pred, tf.float32), name='accuracy')\n",
    "\n",
    "tests.test_conv_net(conv_net)"
   ]
  },
  {
   "cell_type": "markdown",
   "metadata": {
    "deletable": true,
    "editable": true
   },
   "source": [
    "## Train the Neural Network\n",
    "### Single Optimization\n",
    "Implement the function `train_neural_network` to do a single optimization.  The optimization should use `optimizer` to optimize in `session` with a `feed_dict` of the following:\n",
    "* `x` for image input\n",
    "* `y` for labels\n",
    "* `keep_prob` for keep probability for dropout\n",
    "\n",
    "This function will be called for each batch, so `tf.global_variables_initializer()` has already been called.\n",
    "\n",
    "Note: Nothing needs to be returned. This function is only optimizing the neural network."
   ]
  },
  {
   "cell_type": "code",
   "execution_count": 56,
   "metadata": {
    "collapsed": false,
    "deletable": true,
    "editable": true
   },
   "outputs": [
    {
     "name": "stdout",
     "output_type": "stream",
     "text": [
      "Tests Passed\n"
     ]
    }
   ],
   "source": [
    "def train_neural_network(session, optimizer, keep_probability, feature_batch, label_batch):\n",
    "    \"\"\"\n",
    "    Optimize the session on a batch of images and labels\n",
    "    : session: Current TensorFlow session\n",
    "    : optimizer: TensorFlow optimizer function\n",
    "    : keep_probability: keep probability\n",
    "    : feature_batch: Batch of Numpy image data\n",
    "    : label_batch: Batch of Numpy label data\n",
    "    \"\"\"\n",
    "    # TODO: Implement Function\n",
    "    session.run(optimizer, feed_dict={\n",
    "                x: feature_batch,\n",
    "                y: label_batch,\n",
    "                keep_prob: keep_probability})\n",
    "\n",
    "\n",
    "\"\"\"\n",
    "DON'T MODIFY ANYTHING IN THIS CELL THAT IS BELOW THIS LINE\n",
    "\"\"\"\n",
    "tests.test_train_nn(train_neural_network)"
   ]
  },
  {
   "cell_type": "markdown",
   "metadata": {
    "deletable": true,
    "editable": true
   },
   "source": [
    "### Show Stats\n",
    "Implement the function `print_stats` to print loss and validation accuracy.  Use the global variables `valid_features` and `valid_labels` to calculate validation accuracy.  Use a keep probability of `1.0` to calculate the loss and validation accuracy."
   ]
  },
  {
   "cell_type": "code",
   "execution_count": 57,
   "metadata": {
    "collapsed": false,
    "deletable": true,
    "editable": true
   },
   "outputs": [],
   "source": [
    "def print_stats(session, feature_batch, label_batch, cost, accuracy):\n",
    "    \"\"\"\n",
    "    Print information about loss and validation accuracy\n",
    "    : session: Current TensorFlow session\n",
    "    : feature_batch: Batch of Numpy image data\n",
    "    : label_batch: Batch of Numpy label data\n",
    "    : cost: TensorFlow cost function\n",
    "    : accuracy: TensorFlow accuracy function\n",
    "    \"\"\"\n",
    "    # TODO: Implement Function\n",
    "    loss = session.run(cost, feed_dict={\n",
    "                x: feature_batch,\n",
    "                y: label_batch,\n",
    "                keep_prob: 1.})\n",
    "    \n",
    "    valid_acc = session.run(accuracy, feed_dict={\n",
    "                x: valid_features,\n",
    "                y: valid_labels,\n",
    "                keep_prob: 1.})\n",
    "\n",
    "    print('Loss: {:>10.4f} Validation Accuracy: {:.6f}'.format(loss, valid_acc))"
   ]
  },
  {
   "cell_type": "markdown",
   "metadata": {
    "deletable": true,
    "editable": true
   },
   "source": [
    "### Hyperparameters\n",
    "Tune the following parameters:\n",
    "* Set `epochs` to the number of iterations until the network stops learning or start overfitting\n",
    "* Set `batch_size` to the highest number that your machine has memory for.  Most people set them to common sizes of memory:\n",
    " * 64\n",
    " * 128\n",
    " * 256\n",
    " * ...\n",
    "* Set `keep_probability` to the probability of keeping a node using dropout"
   ]
  },
  {
   "cell_type": "code",
   "execution_count": 62,
   "metadata": {
    "collapsed": true,
    "deletable": true,
    "editable": true
   },
   "outputs": [],
   "source": [
    "# TODO: Tune Parameters\n",
    "epochs = 50\n",
    "batch_size = 128\n",
    "keep_probability = 0.75"
   ]
  },
  {
   "cell_type": "markdown",
   "metadata": {
    "deletable": true,
    "editable": true
   },
   "source": [
    "### Train on a Single CIFAR-10 Batch\n",
    "Instead of training the neural network on all the CIFAR-10 batches of data, let's use a single batch. This should save time while you iterate on the model to get a better accuracy.  Once the final validation accuracy is 50% or greater, run the model on all the data in the next section."
   ]
  },
  {
   "cell_type": "code",
   "execution_count": 59,
   "metadata": {
    "collapsed": false,
    "deletable": true,
    "editable": true
   },
   "outputs": [
    {
     "name": "stdout",
     "output_type": "stream",
     "text": [
      "Checking the Training on a Single Batch...\n",
      "Epoch  1, CIFAR-10 Batch 1:  Loss:     2.3579 Validation Accuracy: 0.217000\n",
      "Epoch  2, CIFAR-10 Batch 1:  Loss:     1.9913 Validation Accuracy: 0.273200\n",
      "Epoch  3, CIFAR-10 Batch 1:  Loss:     1.8721 Validation Accuracy: 0.297400\n",
      "Epoch  4, CIFAR-10 Batch 1:  Loss:     1.7950 Validation Accuracy: 0.330200\n",
      "Epoch  5, CIFAR-10 Batch 1:  Loss:     1.6840 Validation Accuracy: 0.355400\n",
      "Epoch  6, CIFAR-10 Batch 1:  Loss:     1.6376 Validation Accuracy: 0.355000\n",
      "Epoch  7, CIFAR-10 Batch 1:  Loss:     1.5378 Validation Accuracy: 0.386000\n",
      "Epoch  8, CIFAR-10 Batch 1:  Loss:     1.4330 Validation Accuracy: 0.402800\n",
      "Epoch  9, CIFAR-10 Batch 1:  Loss:     1.2991 Validation Accuracy: 0.421800\n",
      "Epoch 10, CIFAR-10 Batch 1:  Loss:     1.2043 Validation Accuracy: 0.432400\n",
      "Epoch 11, CIFAR-10 Batch 1:  Loss:     1.2299 Validation Accuracy: 0.438000\n",
      "Epoch 12, CIFAR-10 Batch 1:  Loss:     1.0730 Validation Accuracy: 0.452800\n",
      "Epoch 13, CIFAR-10 Batch 1:  Loss:     0.9956 Validation Accuracy: 0.451400\n",
      "Epoch 14, CIFAR-10 Batch 1:  Loss:     0.8696 Validation Accuracy: 0.437800\n",
      "Epoch 15, CIFAR-10 Batch 1:  Loss:     0.8561 Validation Accuracy: 0.459000\n",
      "Epoch 16, CIFAR-10 Batch 1:  Loss:     0.8149 Validation Accuracy: 0.466800\n",
      "Epoch 17, CIFAR-10 Batch 1:  Loss:     0.7364 Validation Accuracy: 0.456000\n",
      "Epoch 18, CIFAR-10 Batch 1:  Loss:     0.6935 Validation Accuracy: 0.455200\n",
      "Epoch 19, CIFAR-10 Batch 1:  Loss:     0.6263 Validation Accuracy: 0.465000\n",
      "Epoch 20, CIFAR-10 Batch 1:  Loss:     0.6809 Validation Accuracy: 0.470200\n",
      "Epoch 21, CIFAR-10 Batch 1:  Loss:     0.6379 Validation Accuracy: 0.467000\n",
      "Epoch 22, CIFAR-10 Batch 1:  Loss:     0.6162 Validation Accuracy: 0.468200\n",
      "Epoch 23, CIFAR-10 Batch 1:  Loss:     0.4944 Validation Accuracy: 0.478200\n",
      "Epoch 24, CIFAR-10 Batch 1:  Loss:     0.5148 Validation Accuracy: 0.487800\n",
      "Epoch 25, CIFAR-10 Batch 1:  Loss:     0.4124 Validation Accuracy: 0.468600\n",
      "Epoch 26, CIFAR-10 Batch 1:  Loss:     0.4685 Validation Accuracy: 0.480000\n",
      "Epoch 27, CIFAR-10 Batch 1:  Loss:     0.4554 Validation Accuracy: 0.490800\n",
      "Epoch 28, CIFAR-10 Batch 1:  Loss:     0.4792 Validation Accuracy: 0.482200\n",
      "Epoch 29, CIFAR-10 Batch 1:  Loss:     0.3751 Validation Accuracy: 0.484400\n",
      "Epoch 30, CIFAR-10 Batch 1:  Loss:     0.3508 Validation Accuracy: 0.488400\n",
      "Epoch 31, CIFAR-10 Batch 1:  Loss:     0.3511 Validation Accuracy: 0.490200\n",
      "Epoch 32, CIFAR-10 Batch 1:  Loss:     0.3569 Validation Accuracy: 0.495800\n",
      "Epoch 33, CIFAR-10 Batch 1:  Loss:     0.2706 Validation Accuracy: 0.500000\n",
      "Epoch 34, CIFAR-10 Batch 1:  Loss:     0.2954 Validation Accuracy: 0.485600\n",
      "Epoch 35, CIFAR-10 Batch 1:  Loss:     0.2578 Validation Accuracy: 0.487000\n",
      "Epoch 36, CIFAR-10 Batch 1:  Loss:     0.2465 Validation Accuracy: 0.483000\n",
      "Epoch 37, CIFAR-10 Batch 1:  Loss:     0.2174 Validation Accuracy: 0.483800\n",
      "Epoch 38, CIFAR-10 Batch 1:  Loss:     0.1883 Validation Accuracy: 0.484600\n",
      "Epoch 39, CIFAR-10 Batch 1:  Loss:     0.1899 Validation Accuracy: 0.484200\n",
      "Epoch 40, CIFAR-10 Batch 1:  Loss:     0.1905 Validation Accuracy: 0.496400\n",
      "Epoch 41, CIFAR-10 Batch 1:  Loss:     0.1157 Validation Accuracy: 0.493000\n",
      "Epoch 42, CIFAR-10 Batch 1:  Loss:     0.1488 Validation Accuracy: 0.489800\n",
      "Epoch 43, CIFAR-10 Batch 1:  Loss:     0.1569 Validation Accuracy: 0.490000\n",
      "Epoch 44, CIFAR-10 Batch 1:  Loss:     0.1258 Validation Accuracy: 0.503400\n",
      "Epoch 45, CIFAR-10 Batch 1:  Loss:     0.1335 Validation Accuracy: 0.507200\n",
      "Epoch 46, CIFAR-10 Batch 1:  Loss:     0.1174 Validation Accuracy: 0.505000\n",
      "Epoch 47, CIFAR-10 Batch 1:  Loss:     0.0993 Validation Accuracy: 0.502400\n",
      "Epoch 48, CIFAR-10 Batch 1:  Loss:     0.0689 Validation Accuracy: 0.511000\n",
      "Epoch 49, CIFAR-10 Batch 1:  Loss:     0.0614 Validation Accuracy: 0.505600\n",
      "Epoch 50, CIFAR-10 Batch 1:  Loss:     0.0714 Validation Accuracy: 0.503200\n"
     ]
    }
   ],
   "source": [
    "\"\"\"\n",
    "DON'T MODIFY ANYTHING IN THIS CELL\n",
    "\"\"\"\n",
    "print('Checking the Training on a Single Batch...')\n",
    "with tf.Session() as sess:\n",
    "    # Initializing the variables\n",
    "    sess.run(tf.global_variables_initializer())\n",
    "    \n",
    "    # Training cycle\n",
    "    for epoch in range(epochs):\n",
    "        batch_i = 1\n",
    "        for batch_features, batch_labels in helper.load_preprocess_training_batch(batch_i, batch_size):\n",
    "            train_neural_network(sess, optimizer, keep_probability, batch_features, batch_labels)\n",
    "        print('Epoch {:>2}, CIFAR-10 Batch {}:  '.format(epoch + 1, batch_i), end='')\n",
    "        print_stats(sess, batch_features, batch_labels, cost, accuracy)"
   ]
  },
  {
   "cell_type": "markdown",
   "metadata": {
    "deletable": true,
    "editable": true
   },
   "source": [
    "### Fully Train the Model\n",
    "Now that you got a good accuracy with a single CIFAR-10 batch, try it with all five batches."
   ]
  },
  {
   "cell_type": "code",
   "execution_count": 63,
   "metadata": {
    "collapsed": false,
    "deletable": true,
    "editable": true
   },
   "outputs": [
    {
     "name": "stdout",
     "output_type": "stream",
     "text": [
      "Training...\n",
      "Epoch  1, CIFAR-10 Batch 1:  Loss:     2.2840 Validation Accuracy: 0.190200\n",
      "Epoch  1, CIFAR-10 Batch 2:  Loss:     2.1871 Validation Accuracy: 0.191200\n",
      "Epoch  1, CIFAR-10 Batch 3:  Loss:     2.0485 Validation Accuracy: 0.227800\n",
      "Epoch  1, CIFAR-10 Batch 4:  Loss:     2.1546 Validation Accuracy: 0.264200\n",
      "Epoch  1, CIFAR-10 Batch 5:  Loss:     2.0375 Validation Accuracy: 0.283400\n",
      "Epoch  2, CIFAR-10 Batch 1:  Loss:     2.1156 Validation Accuracy: 0.322000\n",
      "Epoch  2, CIFAR-10 Batch 2:  Loss:     1.9396 Validation Accuracy: 0.336000\n",
      "Epoch  2, CIFAR-10 Batch 3:  Loss:     1.6972 Validation Accuracy: 0.340200\n",
      "Epoch  2, CIFAR-10 Batch 4:  Loss:     1.8392 Validation Accuracy: 0.369200\n",
      "Epoch  2, CIFAR-10 Batch 5:  Loss:     1.8684 Validation Accuracy: 0.355000\n",
      "Epoch  3, CIFAR-10 Batch 1:  Loss:     1.9909 Validation Accuracy: 0.385800\n",
      "Epoch  3, CIFAR-10 Batch 2:  Loss:     1.6667 Validation Accuracy: 0.389800\n",
      "Epoch  3, CIFAR-10 Batch 3:  Loss:     1.5057 Validation Accuracy: 0.385200\n",
      "Epoch  3, CIFAR-10 Batch 4:  Loss:     1.6783 Validation Accuracy: 0.390200\n",
      "Epoch  3, CIFAR-10 Batch 5:  Loss:     1.6533 Validation Accuracy: 0.376600\n",
      "Epoch  4, CIFAR-10 Batch 1:  Loss:     1.8997 Validation Accuracy: 0.396400\n",
      "Epoch  4, CIFAR-10 Batch 2:  Loss:     1.6374 Validation Accuracy: 0.411200\n",
      "Epoch  4, CIFAR-10 Batch 3:  Loss:     1.5136 Validation Accuracy: 0.394600\n",
      "Epoch  4, CIFAR-10 Batch 4:  Loss:     1.5377 Validation Accuracy: 0.415000\n",
      "Epoch  4, CIFAR-10 Batch 5:  Loss:     1.6197 Validation Accuracy: 0.429400\n",
      "Epoch  5, CIFAR-10 Batch 1:  Loss:     1.8476 Validation Accuracy: 0.430000\n",
      "Epoch  5, CIFAR-10 Batch 2:  Loss:     1.4521 Validation Accuracy: 0.430000\n",
      "Epoch  5, CIFAR-10 Batch 3:  Loss:     1.3917 Validation Accuracy: 0.416200\n",
      "Epoch  5, CIFAR-10 Batch 4:  Loss:     1.4925 Validation Accuracy: 0.441600\n",
      "Epoch  5, CIFAR-10 Batch 5:  Loss:     1.5610 Validation Accuracy: 0.452200\n",
      "Epoch  6, CIFAR-10 Batch 1:  Loss:     1.7635 Validation Accuracy: 0.443400\n",
      "Epoch  6, CIFAR-10 Batch 2:  Loss:     1.3840 Validation Accuracy: 0.444800\n",
      "Epoch  6, CIFAR-10 Batch 3:  Loss:     1.3681 Validation Accuracy: 0.449000\n",
      "Epoch  6, CIFAR-10 Batch 4:  Loss:     1.4515 Validation Accuracy: 0.450600\n",
      "Epoch  6, CIFAR-10 Batch 5:  Loss:     1.5703 Validation Accuracy: 0.453600\n",
      "Epoch  7, CIFAR-10 Batch 1:  Loss:     1.6691 Validation Accuracy: 0.466400\n",
      "Epoch  7, CIFAR-10 Batch 2:  Loss:     1.3483 Validation Accuracy: 0.455800\n",
      "Epoch  7, CIFAR-10 Batch 3:  Loss:     1.2732 Validation Accuracy: 0.459000\n",
      "Epoch  7, CIFAR-10 Batch 4:  Loss:     1.3683 Validation Accuracy: 0.458000\n",
      "Epoch  7, CIFAR-10 Batch 5:  Loss:     1.4612 Validation Accuracy: 0.466400\n",
      "Epoch  8, CIFAR-10 Batch 1:  Loss:     1.5921 Validation Accuracy: 0.468400\n",
      "Epoch  8, CIFAR-10 Batch 2:  Loss:     1.2909 Validation Accuracy: 0.476000\n",
      "Epoch  8, CIFAR-10 Batch 3:  Loss:     1.2241 Validation Accuracy: 0.457000\n",
      "Epoch  8, CIFAR-10 Batch 4:  Loss:     1.3454 Validation Accuracy: 0.474000\n",
      "Epoch  8, CIFAR-10 Batch 5:  Loss:     1.4251 Validation Accuracy: 0.478800\n",
      "Epoch  9, CIFAR-10 Batch 1:  Loss:     1.5517 Validation Accuracy: 0.488400\n",
      "Epoch  9, CIFAR-10 Batch 2:  Loss:     1.1672 Validation Accuracy: 0.479800\n",
      "Epoch  9, CIFAR-10 Batch 3:  Loss:     1.1809 Validation Accuracy: 0.472400\n",
      "Epoch  9, CIFAR-10 Batch 4:  Loss:     1.3447 Validation Accuracy: 0.479600\n",
      "Epoch  9, CIFAR-10 Batch 5:  Loss:     1.3707 Validation Accuracy: 0.481000\n",
      "Epoch 10, CIFAR-10 Batch 1:  Loss:     1.5324 Validation Accuracy: 0.497000\n",
      "Epoch 10, CIFAR-10 Batch 2:  Loss:     1.1543 Validation Accuracy: 0.483000\n",
      "Epoch 10, CIFAR-10 Batch 3:  Loss:     1.1245 Validation Accuracy: 0.485400\n",
      "Epoch 10, CIFAR-10 Batch 4:  Loss:     1.2856 Validation Accuracy: 0.492600\n",
      "Epoch 10, CIFAR-10 Batch 5:  Loss:     1.3548 Validation Accuracy: 0.482600\n",
      "Epoch 11, CIFAR-10 Batch 1:  Loss:     1.4971 Validation Accuracy: 0.493200\n",
      "Epoch 11, CIFAR-10 Batch 2:  Loss:     1.0571 Validation Accuracy: 0.490600\n",
      "Epoch 11, CIFAR-10 Batch 3:  Loss:     1.1133 Validation Accuracy: 0.488000\n",
      "Epoch 11, CIFAR-10 Batch 4:  Loss:     1.3296 Validation Accuracy: 0.485400\n",
      "Epoch 11, CIFAR-10 Batch 5:  Loss:     1.4063 Validation Accuracy: 0.509000\n",
      "Epoch 12, CIFAR-10 Batch 1:  Loss:     1.4089 Validation Accuracy: 0.507600\n",
      "Epoch 12, CIFAR-10 Batch 2:  Loss:     1.0893 Validation Accuracy: 0.496200\n",
      "Epoch 12, CIFAR-10 Batch 3:  Loss:     1.0977 Validation Accuracy: 0.496800\n",
      "Epoch 12, CIFAR-10 Batch 4:  Loss:     1.2774 Validation Accuracy: 0.505000\n",
      "Epoch 12, CIFAR-10 Batch 5:  Loss:     1.3063 Validation Accuracy: 0.515200\n",
      "Epoch 13, CIFAR-10 Batch 1:  Loss:     1.3221 Validation Accuracy: 0.502800\n",
      "Epoch 13, CIFAR-10 Batch 2:  Loss:     1.0190 Validation Accuracy: 0.494200\n",
      "Epoch 13, CIFAR-10 Batch 3:  Loss:     1.0512 Validation Accuracy: 0.508200\n",
      "Epoch 13, CIFAR-10 Batch 4:  Loss:     1.2401 Validation Accuracy: 0.512600\n",
      "Epoch 13, CIFAR-10 Batch 5:  Loss:     1.2420 Validation Accuracy: 0.507800\n",
      "Epoch 14, CIFAR-10 Batch 1:  Loss:     1.3466 Validation Accuracy: 0.509000\n",
      "Epoch 14, CIFAR-10 Batch 2:  Loss:     0.9695 Validation Accuracy: 0.514400\n",
      "Epoch 14, CIFAR-10 Batch 3:  Loss:     1.0407 Validation Accuracy: 0.518800\n",
      "Epoch 14, CIFAR-10 Batch 4:  Loss:     1.2064 Validation Accuracy: 0.514600\n",
      "Epoch 14, CIFAR-10 Batch 5:  Loss:     1.1841 Validation Accuracy: 0.516000\n",
      "Epoch 15, CIFAR-10 Batch 1:  Loss:     1.2832 Validation Accuracy: 0.517400\n",
      "Epoch 15, CIFAR-10 Batch 2:  Loss:     0.9347 Validation Accuracy: 0.512400\n",
      "Epoch 15, CIFAR-10 Batch 3:  Loss:     1.0078 Validation Accuracy: 0.516000\n",
      "Epoch 15, CIFAR-10 Batch 4:  Loss:     1.2813 Validation Accuracy: 0.469600\n",
      "Epoch 15, CIFAR-10 Batch 5:  Loss:     1.1715 Validation Accuracy: 0.525000\n",
      "Epoch 16, CIFAR-10 Batch 1:  Loss:     1.2417 Validation Accuracy: 0.529000\n",
      "Epoch 16, CIFAR-10 Batch 2:  Loss:     0.9507 Validation Accuracy: 0.512200\n",
      "Epoch 16, CIFAR-10 Batch 3:  Loss:     0.9216 Validation Accuracy: 0.520400\n",
      "Epoch 16, CIFAR-10 Batch 4:  Loss:     1.1838 Validation Accuracy: 0.516800\n",
      "Epoch 16, CIFAR-10 Batch 5:  Loss:     1.1112 Validation Accuracy: 0.529400\n",
      "Epoch 17, CIFAR-10 Batch 1:  Loss:     1.1427 Validation Accuracy: 0.525000\n",
      "Epoch 17, CIFAR-10 Batch 2:  Loss:     0.9426 Validation Accuracy: 0.519600\n",
      "Epoch 17, CIFAR-10 Batch 3:  Loss:     0.9025 Validation Accuracy: 0.522400\n",
      "Epoch 17, CIFAR-10 Batch 4:  Loss:     1.1553 Validation Accuracy: 0.528800\n",
      "Epoch 17, CIFAR-10 Batch 5:  Loss:     1.0712 Validation Accuracy: 0.529200\n",
      "Epoch 18, CIFAR-10 Batch 1:  Loss:     1.1104 Validation Accuracy: 0.536200\n",
      "Epoch 18, CIFAR-10 Batch 2:  Loss:     0.9017 Validation Accuracy: 0.527000\n",
      "Epoch 18, CIFAR-10 Batch 3:  Loss:     0.8426 Validation Accuracy: 0.532200\n",
      "Epoch 18, CIFAR-10 Batch 4:  Loss:     1.0860 Validation Accuracy: 0.531000\n",
      "Epoch 18, CIFAR-10 Batch 5:  Loss:     1.0167 Validation Accuracy: 0.543800\n",
      "Epoch 19, CIFAR-10 Batch 1:  Loss:     1.0901 Validation Accuracy: 0.532600\n",
      "Epoch 19, CIFAR-10 Batch 2:  Loss:     0.8689 Validation Accuracy: 0.541800\n",
      "Epoch 19, CIFAR-10 Batch 3:  Loss:     0.7809 Validation Accuracy: 0.536200\n",
      "Epoch 19, CIFAR-10 Batch 4:  Loss:     1.0492 Validation Accuracy: 0.538800\n",
      "Epoch 19, CIFAR-10 Batch 5:  Loss:     1.0095 Validation Accuracy: 0.551400\n",
      "Epoch 20, CIFAR-10 Batch 1:  Loss:     1.0579 Validation Accuracy: 0.535800\n",
      "Epoch 20, CIFAR-10 Batch 2:  Loss:     0.7885 Validation Accuracy: 0.537600\n",
      "Epoch 20, CIFAR-10 Batch 3:  Loss:     0.7448 Validation Accuracy: 0.547600\n",
      "Epoch 20, CIFAR-10 Batch 4:  Loss:     0.9063 Validation Accuracy: 0.551800\n",
      "Epoch 20, CIFAR-10 Batch 5:  Loss:     0.9487 Validation Accuracy: 0.562600\n",
      "Epoch 21, CIFAR-10 Batch 1:  Loss:     1.0190 Validation Accuracy: 0.550600\n",
      "Epoch 21, CIFAR-10 Batch 2:  Loss:     0.7757 Validation Accuracy: 0.540400\n",
      "Epoch 21, CIFAR-10 Batch 3:  Loss:     0.7469 Validation Accuracy: 0.544000\n",
      "Epoch 21, CIFAR-10 Batch 4:  Loss:     0.9512 Validation Accuracy: 0.551400\n",
      "Epoch 21, CIFAR-10 Batch 5:  Loss:     0.9337 Validation Accuracy: 0.558000\n",
      "Epoch 22, CIFAR-10 Batch 1:  Loss:     0.9738 Validation Accuracy: 0.553400\n",
      "Epoch 22, CIFAR-10 Batch 2:  Loss:     0.7323 Validation Accuracy: 0.562000\n",
      "Epoch 22, CIFAR-10 Batch 3:  Loss:     0.6791 Validation Accuracy: 0.558200\n",
      "Epoch 22, CIFAR-10 Batch 4:  Loss:     0.8819 Validation Accuracy: 0.552400\n",
      "Epoch 22, CIFAR-10 Batch 5:  Loss:     0.8590 Validation Accuracy: 0.561000\n",
      "Epoch 23, CIFAR-10 Batch 1:  Loss:     0.8989 Validation Accuracy: 0.561400\n",
      "Epoch 23, CIFAR-10 Batch 2:  Loss:     0.7082 Validation Accuracy: 0.548200\n",
      "Epoch 23, CIFAR-10 Batch 3:  Loss:     0.7034 Validation Accuracy: 0.554000\n",
      "Epoch 23, CIFAR-10 Batch 4:  Loss:     0.8205 Validation Accuracy: 0.567200\n",
      "Epoch 23, CIFAR-10 Batch 5:  Loss:     0.8268 Validation Accuracy: 0.564800\n",
      "Epoch 24, CIFAR-10 Batch 1:  Loss:     0.8686 Validation Accuracy: 0.567600\n",
      "Epoch 24, CIFAR-10 Batch 2:  Loss:     0.6529 Validation Accuracy: 0.559400\n",
      "Epoch 24, CIFAR-10 Batch 3:  Loss:     0.5832 Validation Accuracy: 0.561200\n",
      "Epoch 24, CIFAR-10 Batch 4:  Loss:     0.8173 Validation Accuracy: 0.560400\n",
      "Epoch 24, CIFAR-10 Batch 5:  Loss:     0.7574 Validation Accuracy: 0.563200\n",
      "Epoch 25, CIFAR-10 Batch 1:  Loss:     0.9278 Validation Accuracy: 0.572400\n",
      "Epoch 25, CIFAR-10 Batch 2:  Loss:     0.6710 Validation Accuracy: 0.560200\n",
      "Epoch 25, CIFAR-10 Batch 3:  Loss:     0.5596 Validation Accuracy: 0.561200\n",
      "Epoch 25, CIFAR-10 Batch 4:  Loss:     0.7467 Validation Accuracy: 0.569000\n",
      "Epoch 25, CIFAR-10 Batch 5:  Loss:     0.7178 Validation Accuracy: 0.574200\n",
      "Epoch 26, CIFAR-10 Batch 1:  Loss:     0.8159 Validation Accuracy: 0.574400\n",
      "Epoch 26, CIFAR-10 Batch 2:  Loss:     0.5947 Validation Accuracy: 0.564600\n",
      "Epoch 26, CIFAR-10 Batch 3:  Loss:     0.5016 Validation Accuracy: 0.573200\n",
      "Epoch 26, CIFAR-10 Batch 4:  Loss:     0.6962 Validation Accuracy: 0.565800\n",
      "Epoch 26, CIFAR-10 Batch 5:  Loss:     0.6976 Validation Accuracy: 0.574200\n",
      "Epoch 27, CIFAR-10 Batch 1:  Loss:     0.7595 Validation Accuracy: 0.576000\n",
      "Epoch 27, CIFAR-10 Batch 2:  Loss:     0.5557 Validation Accuracy: 0.578600\n",
      "Epoch 27, CIFAR-10 Batch 3:  Loss:     0.4826 Validation Accuracy: 0.565200\n",
      "Epoch 27, CIFAR-10 Batch 4:  Loss:     0.6284 Validation Accuracy: 0.576000\n",
      "Epoch 27, CIFAR-10 Batch 5:  Loss:     0.6808 Validation Accuracy: 0.574800\n",
      "Epoch 28, CIFAR-10 Batch 1:  Loss:     0.6948 Validation Accuracy: 0.580000\n",
      "Epoch 28, CIFAR-10 Batch 2:  Loss:     0.5722 Validation Accuracy: 0.572800\n",
      "Epoch 28, CIFAR-10 Batch 3:  Loss:     0.4319 Validation Accuracy: 0.581400\n",
      "Epoch 28, CIFAR-10 Batch 4:  Loss:     0.6331 Validation Accuracy: 0.580400\n",
      "Epoch 28, CIFAR-10 Batch 5:  Loss:     0.5846 Validation Accuracy: 0.576800\n",
      "Epoch 29, CIFAR-10 Batch 1:  Loss:     0.6829 Validation Accuracy: 0.580800\n",
      "Epoch 29, CIFAR-10 Batch 2:  Loss:     0.5832 Validation Accuracy: 0.567400\n",
      "Epoch 29, CIFAR-10 Batch 3:  Loss:     0.4036 Validation Accuracy: 0.567800\n",
      "Epoch 29, CIFAR-10 Batch 4:  Loss:     0.6326 Validation Accuracy: 0.579200\n",
      "Epoch 29, CIFAR-10 Batch 5:  Loss:     0.5335 Validation Accuracy: 0.584000\n",
      "Epoch 30, CIFAR-10 Batch 1:  Loss:     0.6957 Validation Accuracy: 0.588400\n",
      "Epoch 30, CIFAR-10 Batch 2:  Loss:     0.5049 Validation Accuracy: 0.579400\n",
      "Epoch 30, CIFAR-10 Batch 3:  Loss:     0.3431 Validation Accuracy: 0.577200\n",
      "Epoch 30, CIFAR-10 Batch 4:  Loss:     0.5743 Validation Accuracy: 0.576800\n",
      "Epoch 30, CIFAR-10 Batch 5:  Loss:     0.5307 Validation Accuracy: 0.585800\n",
      "Epoch 31, CIFAR-10 Batch 1:  Loss:     0.6776 Validation Accuracy: 0.587800\n",
      "Epoch 31, CIFAR-10 Batch 2:  Loss:     0.4766 Validation Accuracy: 0.579000\n",
      "Epoch 31, CIFAR-10 Batch 3:  Loss:     0.3488 Validation Accuracy: 0.578200\n",
      "Epoch 31, CIFAR-10 Batch 4:  Loss:     0.5555 Validation Accuracy: 0.585600\n",
      "Epoch 31, CIFAR-10 Batch 5:  Loss:     0.4519 Validation Accuracy: 0.586600\n",
      "Epoch 32, CIFAR-10 Batch 1:  Loss:     0.6265 Validation Accuracy: 0.591600\n",
      "Epoch 32, CIFAR-10 Batch 2:  Loss:     0.4603 Validation Accuracy: 0.577800\n",
      "Epoch 32, CIFAR-10 Batch 3:  Loss:     0.3381 Validation Accuracy: 0.581800\n",
      "Epoch 32, CIFAR-10 Batch 4:  Loss:     0.5228 Validation Accuracy: 0.579200\n",
      "Epoch 32, CIFAR-10 Batch 5:  Loss:     0.4377 Validation Accuracy: 0.595200\n",
      "Epoch 33, CIFAR-10 Batch 1:  Loss:     0.5940 Validation Accuracy: 0.597200\n",
      "Epoch 33, CIFAR-10 Batch 2:  Loss:     0.4078 Validation Accuracy: 0.592800\n",
      "Epoch 33, CIFAR-10 Batch 3:  Loss:     0.3024 Validation Accuracy: 0.579200\n",
      "Epoch 33, CIFAR-10 Batch 4:  Loss:     0.4929 Validation Accuracy: 0.587800\n",
      "Epoch 33, CIFAR-10 Batch 5:  Loss:     0.3940 Validation Accuracy: 0.589600\n",
      "Epoch 34, CIFAR-10 Batch 1:  Loss:     0.5642 Validation Accuracy: 0.591600\n",
      "Epoch 34, CIFAR-10 Batch 2:  Loss:     0.4138 Validation Accuracy: 0.585000\n",
      "Epoch 34, CIFAR-10 Batch 3:  Loss:     0.3228 Validation Accuracy: 0.580400\n",
      "Epoch 34, CIFAR-10 Batch 4:  Loss:     0.4289 Validation Accuracy: 0.583800\n",
      "Epoch 34, CIFAR-10 Batch 5:  Loss:     0.3604 Validation Accuracy: 0.586200\n",
      "Epoch 35, CIFAR-10 Batch 1:  Loss:     0.5327 Validation Accuracy: 0.596600\n",
      "Epoch 35, CIFAR-10 Batch 2:  Loss:     0.3627 Validation Accuracy: 0.592200\n",
      "Epoch 35, CIFAR-10 Batch 3:  Loss:     0.2572 Validation Accuracy: 0.581200\n",
      "Epoch 35, CIFAR-10 Batch 4:  Loss:     0.3883 Validation Accuracy: 0.588000\n",
      "Epoch 35, CIFAR-10 Batch 5:  Loss:     0.3104 Validation Accuracy: 0.591200\n",
      "Epoch 36, CIFAR-10 Batch 1:  Loss:     0.5208 Validation Accuracy: 0.595600\n",
      "Epoch 36, CIFAR-10 Batch 2:  Loss:     0.3215 Validation Accuracy: 0.600800\n",
      "Epoch 36, CIFAR-10 Batch 3:  Loss:     0.2750 Validation Accuracy: 0.585200\n",
      "Epoch 36, CIFAR-10 Batch 4:  Loss:     0.3942 Validation Accuracy: 0.584600\n",
      "Epoch 36, CIFAR-10 Batch 5:  Loss:     0.2691 Validation Accuracy: 0.594400\n",
      "Epoch 37, CIFAR-10 Batch 1:  Loss:     0.4853 Validation Accuracy: 0.597800\n",
      "Epoch 37, CIFAR-10 Batch 2:  Loss:     0.3042 Validation Accuracy: 0.591600\n",
      "Epoch 37, CIFAR-10 Batch 3:  Loss:     0.2361 Validation Accuracy: 0.577800\n",
      "Epoch 37, CIFAR-10 Batch 4:  Loss:     0.3474 Validation Accuracy: 0.584200\n",
      "Epoch 37, CIFAR-10 Batch 5:  Loss:     0.2706 Validation Accuracy: 0.586400\n",
      "Epoch 38, CIFAR-10 Batch 1:  Loss:     0.4842 Validation Accuracy: 0.594200\n",
      "Epoch 38, CIFAR-10 Batch 2:  Loss:     0.2985 Validation Accuracy: 0.589800\n",
      "Epoch 38, CIFAR-10 Batch 3:  Loss:     0.2070 Validation Accuracy: 0.587200\n",
      "Epoch 38, CIFAR-10 Batch 4:  Loss:     0.3388 Validation Accuracy: 0.589200\n",
      "Epoch 38, CIFAR-10 Batch 5:  Loss:     0.2158 Validation Accuracy: 0.592800\n",
      "Epoch 39, CIFAR-10 Batch 1:  Loss:     0.4592 Validation Accuracy: 0.597000\n",
      "Epoch 39, CIFAR-10 Batch 2:  Loss:     0.2507 Validation Accuracy: 0.586800\n",
      "Epoch 39, CIFAR-10 Batch 3:  Loss:     0.1928 Validation Accuracy: 0.597400\n",
      "Epoch 39, CIFAR-10 Batch 4:  Loss:     0.3104 Validation Accuracy: 0.585800\n",
      "Epoch 39, CIFAR-10 Batch 5:  Loss:     0.1896 Validation Accuracy: 0.601200\n",
      "Epoch 40, CIFAR-10 Batch 1:  Loss:     0.4275 Validation Accuracy: 0.593400\n",
      "Epoch 40, CIFAR-10 Batch 2:  Loss:     0.2332 Validation Accuracy: 0.586600\n",
      "Epoch 40, CIFAR-10 Batch 3:  Loss:     0.1967 Validation Accuracy: 0.583600\n",
      "Epoch 40, CIFAR-10 Batch 4:  Loss:     0.2985 Validation Accuracy: 0.582000\n",
      "Epoch 40, CIFAR-10 Batch 5:  Loss:     0.1835 Validation Accuracy: 0.603600\n",
      "Epoch 41, CIFAR-10 Batch 1:  Loss:     0.4248 Validation Accuracy: 0.591800\n",
      "Epoch 41, CIFAR-10 Batch 2:  Loss:     0.2122 Validation Accuracy: 0.586200\n",
      "Epoch 41, CIFAR-10 Batch 3:  Loss:     0.1865 Validation Accuracy: 0.590000\n",
      "Epoch 41, CIFAR-10 Batch 4:  Loss:     0.2550 Validation Accuracy: 0.582600\n",
      "Epoch 41, CIFAR-10 Batch 5:  Loss:     0.1477 Validation Accuracy: 0.603000\n",
      "Epoch 42, CIFAR-10 Batch 1:  Loss:     0.3974 Validation Accuracy: 0.601600\n",
      "Epoch 42, CIFAR-10 Batch 2:  Loss:     0.1866 Validation Accuracy: 0.589400\n",
      "Epoch 42, CIFAR-10 Batch 3:  Loss:     0.1514 Validation Accuracy: 0.589200\n",
      "Epoch 42, CIFAR-10 Batch 4:  Loss:     0.2724 Validation Accuracy: 0.582400\n",
      "Epoch 42, CIFAR-10 Batch 5:  Loss:     0.1488 Validation Accuracy: 0.599800\n",
      "Epoch 43, CIFAR-10 Batch 1:  Loss:     0.3874 Validation Accuracy: 0.601000\n",
      "Epoch 43, CIFAR-10 Batch 2:  Loss:     0.1894 Validation Accuracy: 0.586800\n",
      "Epoch 43, CIFAR-10 Batch 3:  Loss:     0.1456 Validation Accuracy: 0.592800\n",
      "Epoch 43, CIFAR-10 Batch 4:  Loss:     0.2499 Validation Accuracy: 0.581800\n",
      "Epoch 43, CIFAR-10 Batch 5:  Loss:     0.1396 Validation Accuracy: 0.596400\n",
      "Epoch 44, CIFAR-10 Batch 1:  Loss:     0.3169 Validation Accuracy: 0.599600\n",
      "Epoch 44, CIFAR-10 Batch 2:  Loss:     0.1658 Validation Accuracy: 0.584000\n",
      "Epoch 44, CIFAR-10 Batch 3:  Loss:     0.1365 Validation Accuracy: 0.599200\n",
      "Epoch 44, CIFAR-10 Batch 4:  Loss:     0.2316 Validation Accuracy: 0.587200\n",
      "Epoch 44, CIFAR-10 Batch 5:  Loss:     0.1276 Validation Accuracy: 0.600600\n",
      "Epoch 45, CIFAR-10 Batch 1:  Loss:     0.3472 Validation Accuracy: 0.600800\n",
      "Epoch 45, CIFAR-10 Batch 2:  Loss:     0.1606 Validation Accuracy: 0.575800\n",
      "Epoch 45, CIFAR-10 Batch 3:  Loss:     0.1528 Validation Accuracy: 0.598400\n",
      "Epoch 45, CIFAR-10 Batch 4:  Loss:     0.1848 Validation Accuracy: 0.593400\n",
      "Epoch 45, CIFAR-10 Batch 5:  Loss:     0.1511 Validation Accuracy: 0.600600\n",
      "Epoch 46, CIFAR-10 Batch 1:  Loss:     0.3490 Validation Accuracy: 0.596800\n",
      "Epoch 46, CIFAR-10 Batch 2:  Loss:     0.1493 Validation Accuracy: 0.581800\n",
      "Epoch 46, CIFAR-10 Batch 3:  Loss:     0.1365 Validation Accuracy: 0.597000\n",
      "Epoch 46, CIFAR-10 Batch 4:  Loss:     0.1388 Validation Accuracy: 0.592400\n",
      "Epoch 46, CIFAR-10 Batch 5:  Loss:     0.1461 Validation Accuracy: 0.594000\n",
      "Epoch 47, CIFAR-10 Batch 1:  Loss:     0.3201 Validation Accuracy: 0.600600\n",
      "Epoch 47, CIFAR-10 Batch 2:  Loss:     0.1277 Validation Accuracy: 0.579800\n",
      "Epoch 47, CIFAR-10 Batch 3:  Loss:     0.1256 Validation Accuracy: 0.595000\n",
      "Epoch 47, CIFAR-10 Batch 4:  Loss:     0.1400 Validation Accuracy: 0.592400\n",
      "Epoch 47, CIFAR-10 Batch 5:  Loss:     0.1404 Validation Accuracy: 0.595400\n",
      "Epoch 48, CIFAR-10 Batch 1:  Loss:     0.3216 Validation Accuracy: 0.598400\n",
      "Epoch 48, CIFAR-10 Batch 2:  Loss:     0.1214 Validation Accuracy: 0.584400\n",
      "Epoch 48, CIFAR-10 Batch 3:  Loss:     0.1290 Validation Accuracy: 0.598600\n",
      "Epoch 48, CIFAR-10 Batch 4:  Loss:     0.1615 Validation Accuracy: 0.594800\n",
      "Epoch 48, CIFAR-10 Batch 5:  Loss:     0.1300 Validation Accuracy: 0.600200\n",
      "Epoch 49, CIFAR-10 Batch 1:  Loss:     0.2561 Validation Accuracy: 0.599200\n",
      "Epoch 49, CIFAR-10 Batch 2:  Loss:     0.1248 Validation Accuracy: 0.588800\n",
      "Epoch 49, CIFAR-10 Batch 3:  Loss:     0.1203 Validation Accuracy: 0.590000\n",
      "Epoch 49, CIFAR-10 Batch 4:  Loss:     0.1278 Validation Accuracy: 0.589000\n",
      "Epoch 49, CIFAR-10 Batch 5:  Loss:     0.0892 Validation Accuracy: 0.593000\n",
      "Epoch 50, CIFAR-10 Batch 1:  Loss:     0.2482 Validation Accuracy: 0.601400\n",
      "Epoch 50, CIFAR-10 Batch 2:  Loss:     0.1085 Validation Accuracy: 0.589200\n",
      "Epoch 50, CIFAR-10 Batch 3:  Loss:     0.1066 Validation Accuracy: 0.595600\n",
      "Epoch 50, CIFAR-10 Batch 4:  Loss:     0.1077 Validation Accuracy: 0.590000\n",
      "Epoch 50, CIFAR-10 Batch 5:  Loss:     0.0757 Validation Accuracy: 0.598600\n"
     ]
    }
   ],
   "source": [
    "\"\"\"\n",
    "DON'T MODIFY ANYTHING IN THIS CELL\n",
    "\"\"\"\n",
    "save_model_path = './image_classification'\n",
    "\n",
    "print('Training...')\n",
    "with tf.Session() as sess:\n",
    "    # Initializing the variables\n",
    "    sess.run(tf.global_variables_initializer())\n",
    "    \n",
    "    # Training cycle\n",
    "    for epoch in range(epochs):\n",
    "        # Loop over all batches\n",
    "        n_batches = 5\n",
    "        for batch_i in range(1, n_batches + 1):\n",
    "            for batch_features, batch_labels in helper.load_preprocess_training_batch(batch_i, batch_size):\n",
    "                train_neural_network(sess, optimizer, keep_probability, batch_features, batch_labels)\n",
    "            print('Epoch {:>2}, CIFAR-10 Batch {}:  '.format(epoch + 1, batch_i), end='')\n",
    "            print_stats(sess, batch_features, batch_labels, cost, accuracy)\n",
    "            \n",
    "    # Save Model\n",
    "    saver = tf.train.Saver()\n",
    "    save_path = saver.save(sess, save_model_path)"
   ]
  },
  {
   "cell_type": "markdown",
   "metadata": {
    "deletable": true,
    "editable": true
   },
   "source": [
    "# Checkpoint\n",
    "The model has been saved to disk.\n",
    "## Test Model\n",
    "Test your model against the test dataset.  This will be your final accuracy. You should have an accuracy greater than 50%. If you don't, keep tweaking the model architecture and parameters."
   ]
  },
  {
   "cell_type": "code",
   "execution_count": 64,
   "metadata": {
    "collapsed": false,
    "deletable": true,
    "editable": true
   },
   "outputs": [
    {
     "name": "stdout",
     "output_type": "stream",
     "text": [
      "Testing Accuracy: 0.5975079113924051\n",
      "\n"
     ]
    },
    {
     "data": {
      "image/png": "[encoded data removed]",
      "text/plain": [
       "<matplotlib.figure.Figure at 0x7fcddd3b6f28>"
      ]
     },
     "metadata": {
      "image/png": {
       "height": 319,
       "width": 355
      }
     },
     "output_type": "display_data"
    }
   ],
   "source": [
    "\"\"\"\n",
    "DON'T MODIFY ANYTHING IN THIS CELL\n",
    "\"\"\"\n",
    "%matplotlib inline\n",
    "%config InlineBackend.figure_format = 'retina'\n",
    "\n",
    "import tensorflow as tf\n",
    "import pickle\n",
    "import helper\n",
    "import random\n",
    "\n",
    "# Set batch size if not already set\n",
    "try:\n",
    "    if batch_size:\n",
    "        pass\n",
    "except NameError:\n",
    "    batch_size = 64\n",
    "\n",
    "save_model_path = './image_classification'\n",
    "n_samples = 4\n",
    "top_n_predictions = 3\n",
    "\n",
    "def test_model():\n",
    "    \"\"\"\n",
    "    Test the saved model against the test dataset\n",
    "    \"\"\"\n",
    "\n",
    "    test_features, test_labels = pickle.load(open('preprocess_training.p', mode='rb'))\n",
    "    loaded_graph = tf.Graph()\n",
    "\n",
    "    with tf.Session(graph=loaded_graph) as sess:\n",
    "        # Load model\n",
    "        loader = tf.train.import_meta_graph(save_model_path + '.meta')\n",
    "        loader.restore(sess, save_model_path)\n",
    "\n",
    "        # Get Tensors from loaded model\n",
    "        loaded_x = loaded_graph.get_tensor_by_name('x:0')\n",
    "        loaded_y = loaded_graph.get_tensor_by_name('y:0')\n",
    "        loaded_keep_prob = loaded_graph.get_tensor_by_name('keep_prob:0')\n",
    "        loaded_logits = loaded_graph.get_tensor_by_name('logits:0')\n",
    "        loaded_acc = loaded_graph.get_tensor_by_name('accuracy:0')\n",
    "        \n",
    "        # Get accuracy in batches for memory limitations\n",
    "        test_batch_acc_total = 0\n",
    "        test_batch_count = 0\n",
    "        \n",
    "        for train_feature_batch, train_label_batch in helper.batch_features_labels(test_features, test_labels, batch_size):\n",
    "            test_batch_acc_total += sess.run(\n",
    "                loaded_acc,\n",
    "                feed_dict={loaded_x: train_feature_batch, loaded_y: train_label_batch, loaded_keep_prob: 1.0})\n",
    "            test_batch_count += 1\n",
    "\n",
    "        print('Testing Accuracy: {}\\n'.format(test_batch_acc_total/test_batch_count))\n",
    "\n",
    "        # Print Random Samples\n",
    "        random_test_features, random_test_labels = tuple(zip(*random.sample(list(zip(test_features, test_labels)), n_samples)))\n",
    "        random_test_predictions = sess.run(\n",
    "            tf.nn.top_k(tf.nn.softmax(loaded_logits), top_n_predictions),\n",
    "            feed_dict={loaded_x: random_test_features, loaded_y: random_test_labels, loaded_keep_prob: 1.0})\n",
    "        helper.display_image_predictions(random_test_features, random_test_labels, random_test_predictions)\n",
    "\n",
    "\n",
    "test_model()"
   ]
  },
  {
   "cell_type": "markdown",
   "metadata": {
    "deletable": true,
    "editable": true
   },
   "source": [
    "## Why 50-70% Accuracy?\n",
    "You might be wondering why you can't get an accuracy any higher. First things first, 50% isn't bad for a simple CNN.  Pure guessing would get you 10% accuracy. However, you might notice people are getting scores [well above 70%](http://rodrigob.github.io/are_we_there_yet/build/classification_datasets_results.html#43494641522d3130).  That's because we haven't taught you all there is to know about neural networks. We still need to cover a few more techniques.\n",
    "## Submitting This Project\n",
    "When submitting this project, make sure to run all the cells before saving the notebook.  Save the notebook file as \"dlnd_image_classification.ipynb\" and save it as a HTML file under \"File\" -> \"Download as\".  Include the \"helper.py\" and \"problem_unittests.py\" files in your submission."
   ]
  }
 ],
 "metadata": {
  "kernelspec": {
   "display_name": "Python 3",
   "language": "python",
   "name": "python3"
  },
  "language_info": {
   "codemirror_mode": {
    "name": "ipython",
    "version": 3
   },
   "file_extension": ".py",
   "mimetype": "text/x-python",
   "name": "python",
   "nbconvert_exporter": "python",
   "pygments_lexer": "ipython3",
   "version": "3.5.2"
  },
  "widgets": {
   "state": {},
   "version": "1.1.2"
  }
 },
 "nbformat": 4,
 "nbformat_minor": 0
}
